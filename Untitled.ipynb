{
 "cells": [
  {
   "cell_type": "code",
   "execution_count": 1,
   "metadata": {
    "collapsed": false
   },
   "outputs": [],
   "source": [
    "from Bio import Entrez\n",
    "from lxml import etree"
   ]
  },
  {
   "cell_type": "code",
   "execution_count": 2,
   "metadata": {
    "collapsed": true
   },
   "outputs": [],
   "source": [
    "bioprojs = [30811]"
   ]
  },
  {
   "cell_type": "code",
   "execution_count": 53,
   "metadata": {
    "collapsed": false
   },
   "outputs": [],
   "source": [
    "h = Entrez.esearch(db='sra', term='30811[BioProject]')\n",
    "rec = Entrez.read(h)\n",
    "cnt = int(rec['Count'])\n",
    "lst = rec['IdList']\n",
    "done = int(rec['RetMax'])\n",
    "while done < cnt:\n",
    "    h = Entrez.esearch(db='sra', retstart=done, term='30811[BioProject]')\n",
    "    rec = Entrez.read(h)\n",
    "    lst.extend(rec['IdList'])\n",
    "    done += int(rec['RetMax'])\n",
    "    print done, lst\n"
   ]
  },
  {
   "cell_type": "code",
   "execution_count": 72,
   "metadata": {
    "collapsed": true
   },
   "outputs": [],
   "source": [
    "def esearch_ids(**kwargs):                     \n",
    "    print kwargs\n",
    "    handle = Entrez.esearch(**kwargs)                                              \n",
    "    rec = Entrez.read(handle)                                                      \n",
    "                                                                                   \n",
    "    count = int(rec['Count'])                                                      \n",
    "    id_list = rec['IdList']                                                        \n",
    "    done = int(rec['RetMax'])  # Num done so far                                   \n",
    "    while done < count:                                                            \n",
    "        handle = Entrez.esearch(retstart=done, **kwargs)                           \n",
    "        rec = Entrez.read(handle)                                                  \n",
    "        id_list.extend(rec['IdList'])                                              \n",
    "        done += int(rec['RetMax']) \n",
    "    return id_list                                                              "
   ]
  },
  {
   "cell_type": "code",
   "execution_count": 73,
   "metadata": {
    "collapsed": false
   },
   "outputs": [
    {
     "name": "stdout",
     "output_type": "stream",
     "text": [
      "{'term': '30811[BioProject]', 'db': 'sra'}\n"
     ]
    },
    {
     "data": {
      "text/plain": [
       "['180894', '180893', '180892', '180891', '180890', '180889', '180888', '180887', '180886', '180885', '180884', '180883', '180882', '180881', '180880', '180879', '180878', '180877', '180876', '180875', '180874', '180873', '180872', '180871', '180870', '180869', '180868', '180867', '180866', '180865', '180864', '180863', '180862', '180861', '180860', '180859', '180858', '180857', '180856', '180855', '180854', '180853', '180852', '180851', '180850', '180849', '180848', '180847', '180846', '180845', '180844', '180843', '180842', '180841', '180840', '180839', '180838', '180837', '180836', '180835', '180834', '180833', '180832', '180831', '180830', '180829', '180828', '180827', '180826', '180825', '180824', '180823', '180822', '180821', '180820', '180819', '180818', '180817', '180816', '180815', '180814', '180813', '180812', '180811', '180810', '180809', '180808', '180807', '180806', '180805', '180804', '180803', '180802', '180801', '180799', '180798', '180797', '180796', '180795', '180794', '180793', '180792', '180791', '180790', '180789', '180788', '180787', '180786', '180785', '180784', '180783', '180782', '180781', '180780', '180779', '180778', '180777', '180776', '180775', '180774', '180773', '180772', '180771', '180770', '180769', '180768', '180767', '180766', '180765', '180764', '180763', '180762', '180761', '180760', '180759', '180758', '180757', '180756', '180755', '180754', '180753', '180752', '180751', '180750', '180749', '180748', '180747', '180746', '180745', '180744', '180743', '180742', '180741', '180740', '180739', '180738', '180737', '180736', '180735', '180734', '180733', '180732', '180731', '180730', '180729', '180728', '180727', '180726', '180725', '180724', '180723', '180722', '180721', '180720', '180719', '180718', '180717', '180716', '180715', '180714', '180713', '180712', '180711', '180710', '180709', '180708', '180707', '180706', '180705', '180704', '180703', '180702', '180701', '180700', '180699', '180698', '180697', '180696', '180695', '180694', '180693', '180692', '180691', '180690', '180689', '180688', '180687', '180686', '180685', '180684', '180683', '180682', '180681', '180680', '180679', '180678', '110376', '110375', '110374', '110373', '110372', '110371', '110370', '110369', '110368', '110367', '110366', '110365', '110364', '110363', '110362', '110360', '110359', '110358', '110357', '110356', '110355', '110354', '110329', '110328', '48964', '48963', '48962', '48961', '48960', '48959', '48958', '48957', '48956', '48955', '48954', '48953', '48952', '48951', '48950', '48949', '48948', '48947', '48946', '48726', '48269', '48268', '48267', '48266', '48265', '48264', '48263', '48262', '48261', '48260', '48259', '48258', '48257', '48256', '48255', '48254', '48253', '48252', '48251', '48250', '48249', '48248', '48241', '48240', '48239', '48238', '48237', '48234', '48233', '48230', '48229', '48228', '48227', '48226', '48225', '48224', '48223', '48222', '48221', '48220', '48219', '48218', '48217', '48216', '48215', '48214', '48213', '48212', '48211', '48210', '48209', '48208', '46553', '46552', '46551', '46550', '46549', '46548', '46547', '46546', '46545', '46544', '46543', '46542', '46541', '46540', '46539', '46538', '46537', '46536', '46535', '46534', '46533', '46532', '46531', '46530', '46529', '46528', '46527', '46526', '46525', '46524', '46523', '46522', '46521', '46520', '46519', '46518', '46517', '46516', '46515', '46514', '46513', '46512', '46511', '46510', '46509', '46508', '46507', '46506', '46505', '46504', '46503', '46502', '46501', '46500', '46499', '46498', '46497', '46496', '46495', '46494', '46493', '46492', '46491', '46490', '46489', '46488', '46487', '46486', '46485', '46484', '46483', '46482', '46481', '46480', '46479', '46478', '46477', '46476', '46475', '46294', '37980', '37172', '37171', '36059', '21334', '12155', '12154', '12153', '705', '704', '703']"
      ]
     },
     "execution_count": 73,
     "metadata": {},
     "output_type": "execute_result"
    }
   ],
   "source": [
    "esearch_ids(db='sra', term='30811[BioProject]')"
   ]
  },
  {
   "cell_type": "code",
   "execution_count": 70,
   "metadata": {
    "collapsed": false
   },
   "outputs": [
    {
     "ename": "HTTPError",
     "evalue": "HTTP Error 400: Bad Request",
     "output_type": "error",
     "traceback": [
      "\u001b[1;31m---------------------------------------------------------------------------\u001b[0m",
      "\u001b[1;31mHTTPError\u001b[0m                                 Traceback (most recent call last)",
      "\u001b[1;32m<ipython-input-70-47e938fcff7c>\u001b[0m in \u001b[0;36m<module>\u001b[1;34m()\u001b[0m\n\u001b[1;32m----> 1\u001b[1;33m \u001b[0mh\u001b[0m\u001b[1;33m=\u001b[0m\u001b[0mEntrez\u001b[0m\u001b[1;33m.\u001b[0m\u001b[0mefetch\u001b[0m\u001b[1;33m(\u001b[0m\u001b[0mdb\u001b[0m\u001b[1;33m=\u001b[0m\u001b[1;34m'sra'\u001b[0m\u001b[1;33m,\u001b[0m \u001b[0mterm\u001b[0m\u001b[1;33m=\u001b[0m\u001b[1;34m'30811[BioProject]'\u001b[0m\u001b[1;33m)\u001b[0m\u001b[1;33m\u001b[0m\u001b[0m\n\u001b[0m",
      "\u001b[1;32m/home/kevin/.virtualenvs/biopipes/local/lib/python2.7/site-packages/Bio/Entrez/__init__.pyc\u001b[0m in \u001b[0;36mefetch\u001b[1;34m(db, **keywords)\u001b[0m\n\u001b[0;32m    151\u001b[0m             \u001b[1;31m# more than about 200 IDs\u001b[0m\u001b[1;33m\u001b[0m\u001b[1;33m\u001b[0m\u001b[0m\n\u001b[0;32m    152\u001b[0m             \u001b[0mpost\u001b[0m \u001b[1;33m=\u001b[0m \u001b[0mTrue\u001b[0m\u001b[1;33m\u001b[0m\u001b[0m\n\u001b[1;32m--> 153\u001b[1;33m     \u001b[1;32mreturn\u001b[0m \u001b[0m_open\u001b[0m\u001b[1;33m(\u001b[0m\u001b[0mcgi\u001b[0m\u001b[1;33m,\u001b[0m \u001b[0mvariables\u001b[0m\u001b[1;33m,\u001b[0m \u001b[0mpost\u001b[0m\u001b[1;33m)\u001b[0m\u001b[1;33m\u001b[0m\u001b[0m\n\u001b[0m\u001b[0;32m    154\u001b[0m \u001b[1;33m\u001b[0m\u001b[0m\n\u001b[0;32m    155\u001b[0m \u001b[1;33m\u001b[0m\u001b[0m\n",
      "\u001b[1;32m/home/kevin/.virtualenvs/biopipes/local/lib/python2.7/site-packages/Bio/Entrez/__init__.pyc\u001b[0m in \u001b[0;36m_open\u001b[1;34m(cgi, params, post)\u001b[0m\n\u001b[0;32m    466\u001b[0m             \u001b[0mhandle\u001b[0m \u001b[1;33m=\u001b[0m \u001b[0m_urlopen\u001b[0m\u001b[1;33m(\u001b[0m\u001b[0mcgi\u001b[0m\u001b[1;33m)\u001b[0m\u001b[1;33m\u001b[0m\u001b[0m\n\u001b[0;32m    467\u001b[0m     \u001b[1;32mexcept\u001b[0m \u001b[0m_HTTPError\u001b[0m \u001b[1;32mas\u001b[0m \u001b[0mexception\u001b[0m\u001b[1;33m:\u001b[0m\u001b[1;33m\u001b[0m\u001b[0m\n\u001b[1;32m--> 468\u001b[1;33m         \u001b[1;32mraise\u001b[0m \u001b[0mexception\u001b[0m\u001b[1;33m\u001b[0m\u001b[0m\n\u001b[0m\u001b[0;32m    469\u001b[0m \u001b[1;33m\u001b[0m\u001b[0m\n\u001b[0;32m    470\u001b[0m     \u001b[1;32mreturn\u001b[0m \u001b[0m_binary_to_string_handle\u001b[0m\u001b[1;33m(\u001b[0m\u001b[0mhandle\u001b[0m\u001b[1;33m)\u001b[0m\u001b[1;33m\u001b[0m\u001b[0m\n",
      "\u001b[1;31mHTTPError\u001b[0m: HTTP Error 400: Bad Request"
     ]
    }
   ],
   "source": [
    "h=Entrez.efetch(db='sra', id='180894')"
   ]
  },
  {
   "cell_type": "code",
   "execution_count": 6,
   "metadata": {
    "collapsed": false
   },
   "outputs": [],
   "source": [
    "tree = etree.parse(h)"
   ]
  },
  {
   "cell_type": "code",
   "execution_count": 31,
   "metadata": {
    "collapsed": false
   },
   "outputs": [],
   "source": [
    "sid = tree.xpath('//EXPERIMENT_PACKAGE_SET/EXPERIMENT_PACKAGE/SAMPLE/@alias')"
   ]
  },
  {
   "cell_type": "code",
   "execution_count": 32,
   "metadata": {
    "collapsed": false
   },
   "outputs": [
    {
     "data": {
      "text/plain": [
       "['Zdr-1']"
      ]
     },
     "execution_count": 32,
     "metadata": {},
     "output_type": "execute_result"
    }
   ],
   "source": [
    "sid"
   ]
  },
  {
   "cell_type": "code",
   "execution_count": 30,
   "metadata": {
    "collapsed": false
   },
   "outputs": [
    {
     "data": {
      "text/plain": [
       "'Zdr-1'"
      ]
     },
     "execution_count": 30,
     "metadata": {},
     "output_type": "execute_result"
    }
   ],
   "source": [
    "s.text"
   ]
  },
  {
   "cell_type": "code",
   "execution_count": 35,
   "metadata": {
    "collapsed": true
   },
   "outputs": [],
   "source": [
    "sid = tree.xpath('//EXPERIMENT_PACKAGE_SET/EXPERIMENT_PACKAGE/RUN_SET/RUN/@accession')"
   ]
  },
  {
   "cell_type": "code",
   "execution_count": 36,
   "metadata": {
    "collapsed": false
   },
   "outputs": [
    {
     "data": {
      "text/plain": [
       "['SRR492411']"
      ]
     },
     "execution_count": 36,
     "metadata": {},
     "output_type": "execute_result"
    }
   ],
   "source": [
    "sid"
   ]
  },
  {
   "cell_type": "code",
   "execution_count": null,
   "metadata": {
    "collapsed": true
   },
   "outputs": [],
   "source": []
  }
 ],
 "metadata": {
  "kernelspec": {
   "display_name": "Python 2",
   "language": "python",
   "name": "python2"
  },
  "language_info": {
   "codemirror_mode": {
    "name": "ipython",
    "version": 2
   },
   "file_extension": ".py",
   "mimetype": "text/x-python",
   "name": "python",
   "nbconvert_exporter": "python",
   "pygments_lexer": "ipython2",
   "version": "2.7.10"
  }
 },
 "nbformat": 4,
 "nbformat_minor": 0
}
